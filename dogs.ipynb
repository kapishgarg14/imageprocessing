{
 "cells": [
  {
   "cell_type": "code",
   "execution_count": 46,
   "metadata": {},
   "outputs": [],
   "source": [
    "import numpy as np\n",
    "import cv2\n",
    "import os"
   ]
  },
  {
   "cell_type": "code",
   "execution_count": 47,
   "metadata": {},
   "outputs": [],
   "source": [
    "# Image hashing function used to calculate hash for each image\n",
    "def dhash(image, hashSize=8):\n",
    "    gray = cv2.cvtColor(image, cv2.COLOR_BGR2GRAY)\n",
    "    resized = cv2.resize(gray, (hashSize + 1, hashSize))\n",
    "    diff = resized[:, 1:] > resized[:, :-1]\n",
    "    return sum([2 ** i for (i, v) in enumerate(diff.flatten()) if v])"
   ]
  },
  {
   "cell_type": "code",
   "execution_count": 64,
   "metadata": {},
   "outputs": [
    {
     "name": "stdout",
     "output_type": "stream",
     "text": [
      "6698\n"
     ]
    }
   ],
   "source": [
    "hashes = {}\n",
    "path=\"/Users/kapishgarg/Downloads/aug_dogs/\"\n",
    "imagePaths=os.listdir(path)\n",
    "print(len(imagePaths))"
   ]
  },
  {
   "cell_type": "code",
   "execution_count": 61,
   "metadata": {},
   "outputs": [],
   "source": [
    "# Storing similar images in a dictionary using their hash \n",
    "for imagePath in imagePaths:\n",
    "    image = cv2.imread(path+imagePath)\n",
    "    curr_img_hash= dhash(image)\n",
    "    p = hashes.get(curr_img_hash, [])\n",
    "    p.append(imagePath)\n",
    "    hashes[curr_img_hash] = p\n",
    "l=0"
   ]
  },
  {
   "cell_type": "code",
   "execution_count": 62,
   "metadata": {},
   "outputs": [],
   "source": [
    "# Calculating and deleting duplicate images using dict built earlier \n",
    "for (h, hashedPaths) in hashes.items():\n",
    "     if len(hashedPaths) > 1:\n",
    "            for p in hashedPaths[1:]:\n",
    "                if(p in os.listdir(path)):\n",
    "                    l+=1 \n",
    "                    # os.remove(path+p) \n",
    "                    # uncomment above comment if you want to remove the images"
   ]
  },
  {
   "cell_type": "code",
   "execution_count": 63,
   "metadata": {},
   "outputs": [
    {
     "name": "stdout",
     "output_type": "stream",
     "text": [
      "Number of duplicate images are \n",
      "1116\n"
     ]
    }
   ],
   "source": [
    "print(\"Number of duplicate images are \")\n",
    "print(l)"
   ]
  },
  {
   "cell_type": "code",
   "execution_count": null,
   "metadata": {},
   "outputs": [],
   "source": []
  }
 ],
 "metadata": {
  "kernelspec": {
   "display_name": "Python 2",
   "language": "python",
   "name": "python2"
  },
  "language_info": {
   "codemirror_mode": {
    "name": "ipython",
    "version": 2
   },
   "file_extension": ".py",
   "mimetype": "text/x-python",
   "name": "python",
   "nbconvert_exporter": "python",
   "pygments_lexer": "ipython2",
   "version": "2.7.17"
  }
 },
 "nbformat": 4,
 "nbformat_minor": 2
}
